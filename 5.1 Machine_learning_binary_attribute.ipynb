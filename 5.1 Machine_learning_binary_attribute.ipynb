{
 "cells": [
  {
   "cell_type": "markdown",
   "metadata": {},
   "source": [
    "# Binary Attribute in Machine Learning Model"
   ]
  },
  {
   "cell_type": "markdown",
   "metadata": {},
   "source": [
    "## Data Preparation"
   ]
  },
  {
   "cell_type": "code",
   "execution_count": null,
   "metadata": {},
   "outputs": [],
   "source": [
    "import pandas as pd\n",
    "import numpy as np"
   ]
  },
  {
   "cell_type": "code",
   "execution_count": null,
   "metadata": {},
   "outputs": [],
   "source": [
    "a = pd.read_csv('data',index_col = 'Unnamed: 0')\n",
    "a.set_index('index',inplace = True)\n",
    "a"
   ]
  },
  {
   "cell_type": "code",
   "execution_count": null,
   "metadata": {
    "scrolled": false
   },
   "outputs": [],
   "source": [
    "# set the binary value for each feature\n",
    "a['director_binary'] = np.where(a['director'].notnull(),1,0)\n",
    "a['genres_binary'] = np.where(a['genres'].notnull(),1,0)\n",
    "a['keywords_binary'] = np.where(a['keywords'].notnull(),1,0)\n",
    "a['rating_value_binary'] = np.where(a['rating_value'] >= 7,1,0)\n",
    "a['release_country_binary'] = np.where(a['release_country'].notnull(),1,0)\n",
    "a['release_date_binary'] = np.where(a['release_date'].notnull(),1,0)\n",
    "a['stars_binary'] = np.where(a['stars'].notnull(),1,0)\n",
    "a['storyline_binary'] = np.where(a['storyline'].notnull(),1,0)\n",
    "a['writers_binary'] = np.where(a['writers'].notnull(),1,0)"
   ]
  },
  {
   "cell_type": "code",
   "execution_count": null,
   "metadata": {
    "scrolled": true
   },
   "outputs": [],
   "source": [
    "# get the compound value for each movie's review\n",
    "df_SA = pd.read_csv('sentiment_analysis_result',index_col = 'Unnamed: 0')\n",
    "a['compound'] = df_SA['compound']\n",
    "# Normalize the compound value\n",
    "a['compound_grade'] = a['compound']/2+1/2"
   ]
  },
  {
   "cell_type": "code",
   "execution_count": null,
   "metadata": {},
   "outputs": [],
   "source": [
    "# put movies without rating value into data_null, put movie with rating value into data_notnull\n",
    "data_notnull = a[a['rating_value'].notnull()][['director_binary','genres_binary','keywords_binary','release_country_binary','release_date_binary','stars_binary','storyline_binary','writers_binary','compound_grade','rating_value_binary']]\n",
    "data_null = a[a['rating_value'].isnull()][['director_binary','genres_binary','keywords_binary','release_country_binary','release_date_binary','stars_binary','storyline_binary','writers_binary','compound_grade']]"
   ]
  },
  {
   "cell_type": "code",
   "execution_count": null,
   "metadata": {},
   "outputs": [],
   "source": [
    "# build train and test samples\n",
    "from sklearn.model_selection import train_test_split\n",
    "train, test = train_test_split(data_notnull, test_size = 0.3)\n",
    "x_train = train.iloc[0:,:-1]\n",
    "y_train = train['rating_value_binary']\n",
    "x_test = test.iloc[0:,:-1]\n",
    "y_test = test['rating_value_binary']"
   ]
  },
  {
   "cell_type": "markdown",
   "metadata": {},
   "source": [
    "## Logistic Regression"
   ]
  },
  {
   "cell_type": "code",
   "execution_count": null,
   "metadata": {},
   "outputs": [],
   "source": [
    "# draw cool-warm map \n",
    "import matplotlib.pyplot as plot\n",
    "plot.pcolor(data_notnull.corr(),cmap='coolwarm') #https://matplotlib.org/examples/color/colormaps_reference.html\n",
    "plot.show()"
   ]
  },
  {
   "cell_type": "code",
   "execution_count": null,
   "metadata": {},
   "outputs": [],
   "source": [
    "from sklearn import linear_model\n",
    "model = linear_model.LogisticRegression()\n",
    "model.fit(x_train,y_train)\n",
    "predictions = model.predict(x_test)\n",
    "actuals = np.array(y_test)\n",
    "logistic_acc = model.score(x_test,actuals)\n",
    "print(logistic_acc)"
   ]
  },
  {
   "cell_type": "code",
   "execution_count": null,
   "metadata": {
    "scrolled": true
   },
   "outputs": [],
   "source": [
    "# prediction for movies without rating value\n",
    "prediction = data_null[['compound_grade']]\n",
    "lr_predictions = model.predict(data_null)\n",
    "prediction['lr_predictions'] = lr_predictions\n",
    "prediction"
   ]
  },
  {
   "cell_type": "markdown",
   "metadata": {},
   "source": [
    "## Random Forest"
   ]
  },
  {
   "cell_type": "code",
   "execution_count": null,
   "metadata": {},
   "outputs": [],
   "source": [
    "# get the best combination for parameters\n",
    "from sklearn.model_selection import GridSearchCV\n",
    "from sklearn.ensemble import RandomForestClassifier\n",
    "parameters = {\n",
    "     'n_estimators':(10, 30, 50, 100), #the number of trees\n",
    "     'max_depth':(4,5,6,8,10,15),\n",
    "     'min_samples_split': (2, 4, 8),\n",
    "     'min_samples_leaf': (4,8,12,16)\n",
    "}\n",
    "\n",
    "model = GridSearchCV(RandomForestClassifier(),parameters,cv=3,iid=False)\n",
    "model.fit(x_train, np.ravel(y_train))\n",
    "model.best_score_, model.best_params_"
   ]
  },
  {
   "cell_type": "code",
   "execution_count": null,
   "metadata": {},
   "outputs": [],
   "source": [
    "# get the accuracy for the combination\n",
    "rf = RandomForestClassifier(max_depth=6,min_samples_leaf=8,min_samples_split=8,n_estimators=50)\n",
    "rf.fit(x_train,np.ravel(y_train))\n",
    "rf_acc = rf.score(x_test,y_test)\n",
    "print(rf_acc)"
   ]
  },
  {
   "cell_type": "code",
   "execution_count": null,
   "metadata": {
    "scrolled": true
   },
   "outputs": [],
   "source": [
    "# prediction for movies without rating value\n",
    "rf_predictions = rf.predict(data_null)\n",
    "prediction['rf_predictions'] = rf_predictions\n",
    "prediction"
   ]
  },
  {
   "cell_type": "code",
   "execution_count": null,
   "metadata": {
    "scrolled": false
   },
   "outputs": [],
   "source": [
    "# Draw feature importance image\n",
    "import matplotlib.pyplot as plt\n",
    "%matplotlib inline\n",
    "feature_names = [key for key in data_null]\n",
    "importances = rf.feature_importances_\n",
    "indices = np.argsort(importances)\n",
    "plt.figure(figsize=(12,12))\n",
    "plt.title('Feature Importances')\n",
    "plt.barh(range(len(indices)), importances[indices], color='y', align='center')\n",
    "plt.yticks(range(len(indices)),feature_names)\n",
    "plt.xlabel('Relative Importance')"
   ]
  },
  {
   "cell_type": "markdown",
   "metadata": {},
   "source": [
    "## Neural Network"
   ]
  },
  {
   "cell_type": "code",
   "execution_count": null,
   "metadata": {},
   "outputs": [],
   "source": [
    "# get the best combination for parameters\n",
    "from sklearn.neural_network import MLPClassifier\n",
    "from sklearn.model_selection import GridSearchCV\n",
    "parameters = {\n",
    "    'learning_rate':[\"constant\", \"invscaling\", \"adaptive\"],\n",
    "    'solver': ('sgd','lbfgs','adam'),\n",
    "    'activation': ('logistic','tanh','relu'),\n",
    "    'hidden_layer_sizes': ((30,),(60,),(80,)),\n",
    "    'max_iter': (500, 1000)\n",
    "}\n",
    "gs = GridSearchCV(estimator = MLPClassifier(), param_grid=parameters,cv=5)\n",
    "gs.fit(x_train, y_train)\n",
    "print(gs.best_score_)\n",
    "print(gs.best_params_)"
   ]
  },
  {
   "cell_type": "code",
   "execution_count": null,
   "metadata": {},
   "outputs": [],
   "source": [
    "# get the accuracy for the combination\n",
    "clf = MLPClassifier(solver='lbfgs', hidden_layer_sizes=(80,), max_iter = 1000, \n",
    "                    activation='relu',\n",
    "                    learning_rate='constant')\n",
    "clf.fit(x_train,y_train)\n",
    "predictions = clf.predict(x_test)\n",
    "actuals = y_test\n",
    "tp=tn=fp=fn=0\n",
    "for i in range(len(actuals)):\n",
    "    a_class=p_class=0\n",
    "    if int(actuals[i] == 0):\n",
    "        a_class = 1 \n",
    "    if int(predictions[i] == 0):\n",
    "        p_class = 1\n",
    "    if a_class == 1 and p_class == 1:\n",
    "        tp +=1\n",
    "    elif a_class == 1 and p_class == 0:\n",
    "        fn +=1\n",
    "    elif a_class == 0 and p_class == 0:\n",
    "        tn +=1\n",
    "    elif a_class == 0 and p_class == 1:\n",
    "        fp +=1\n",
    "print(tp,tn,fp,fn)\n",
    "nn_accuracy = ((tp+tn)*100/(tp+tn+fp+fn))\n",
    "print(nn_accuracy)"
   ]
  },
  {
   "cell_type": "code",
   "execution_count": null,
   "metadata": {
    "scrolled": true
   },
   "outputs": [],
   "source": [
    "# prediction for movies without rating value\n",
    "nn_predictions = clf.predict(data_null)\n",
    "prediction['nn_predictions'] = nn_predictions\n",
    "prediction = prediction.drop(columns = 'compound_grade')\n",
    "prediction"
   ]
  },
  {
   "cell_type": "markdown",
   "metadata": {},
   "source": [
    "## Save the result into csv file"
   ]
  },
  {
   "cell_type": "code",
   "execution_count": null,
   "metadata": {},
   "outputs": [],
   "source": [
    "prediction.to_csv('prediction')"
   ]
  },
  {
   "cell_type": "code",
   "execution_count": null,
   "metadata": {},
   "outputs": [],
   "source": []
  }
 ],
 "metadata": {
  "kernelspec": {
   "display_name": "Python 3",
   "language": "python",
   "name": "python3"
  },
  "language_info": {
   "codemirror_mode": {
    "name": "ipython",
    "version": 3
   },
   "file_extension": ".py",
   "mimetype": "text/x-python",
   "name": "python",
   "nbconvert_exporter": "python",
   "pygments_lexer": "ipython3",
   "version": "3.7.3"
  }
 },
 "nbformat": 4,
 "nbformat_minor": 2
}
