{
 "cells": [
  {
   "cell_type": "markdown",
   "metadata": {},
   "source": [
    "# Web Scraping Part-1:"
   ]
  },
  {
   "cell_type": "markdown",
   "metadata": {},
   "source": [
    "## Obtain all movies' name and link, write them into a local csv file"
   ]
  },
  {
   "cell_type": "code",
   "execution_count": null,
   "metadata": {},
   "outputs": [],
   "source": [
    "# the package used for this .ipynb file\n",
    "import requests\n",
    "from bs4 import BeautifulSoup\n",
    "import pandas as pd"
   ]
  },
  {
   "cell_type": "code",
   "execution_count": null,
   "metadata": {},
   "outputs": [],
   "source": [
    "def get_all_genres_url():\n",
    "    # this is a function to obtain all genres and links from a begining url\n",
    "    all_genres_url = []\n",
    "    url = 'https://www.imdb.com/chart/moviemeter?ref_=nv_mv_mpm'\n",
    "    try:\n",
    "        response = requests.get(url)\n",
    "        if response.status_code != 200:\n",
    "            print('something is wrong')\n",
    "        result = BeautifulSoup(response.content,'lxml')\n",
    "        genre_list = result.find('ul',{'class':'quicklinks'}).find_all('li')\n",
    "    except:\n",
    "        print('oops!')\n",
    "    \n",
    "    for genre in genre_list:\n",
    "        genre_url = 'http://www.imdb.com' + genre.find('a').get('href')\n",
    "        genre_name = genre.get_text().strip()\n",
    "        all_genres_url.append((genre_url,genre_name))\n",
    "    \n",
    "    return all_genres_url"
   ]
  },
  {
   "cell_type": "code",
   "execution_count": null,
   "metadata": {},
   "outputs": [],
   "source": [
    "# incase of use, we write all genres' names and links into a local csv file\n",
    "df = pd.DataFrame(feature_movies,columns = ['genre','url'])\n",
    "df.to_csv('genre_and_link')"
   ]
  },
  {
   "cell_type": "code",
   "execution_count": null,
   "metadata": {},
   "outputs": [],
   "source": [
    "def genre_devided():\n",
    "    # we read genre_and_link csv and devide all genres into eight vairabls\n",
    "    # so we can run below code later effeicently\n",
    "    test = pd.read_csv('genre_and_link',usecols=['genre','url'])\n",
    "    movies_list = test.values.tolist()\n",
    "    action = [test['url'][0]]\n",
    "    adv_ani = test['url'][1:3].tolist()\n",
    "    bio_com = test['url'][3:5].tolist()\n",
    "    cri_dra = test['url'][5:8].tolist()\n",
    "    fam_film = test['url'][8:11].tolist()\n",
    "    his_mus = test['url'][11:14].tolist()\n",
    "    musl_rom = test['url'][14:17].tolist()\n",
    "    sci_wes = test['url'][17:].tolist()\n",
    "    \n",
    "    # change return value to obtain differnt genres\n",
    "    return action"
   ]
  },
  {
   "cell_type": "code",
   "execution_count": null,
   "metadata": {},
   "outputs": [],
   "source": [
    "def get_next_url_for_one_genre(url):\n",
    "    # this is a function to obtain all pages in one genre by a recursion function\n",
    "    page_url_list = []\n",
    "    try:\n",
    "        response = requests.get(url)\n",
    "        if response.status_code != 200:\n",
    "            print('some thing is wrong')\n",
    "        result = BeautifulSoup(response.content,'lxml')\n",
    "        try:\n",
    "            page_url = 'http://www.imdb.com' + result.find('a',{'class':'lister-page-next next-page'}).get('href')\n",
    "            page_url_list.append(page_url)\n",
    "            page_url_list.extend(get_next_url_for_one_genre(page_url))\n",
    "        except:\n",
    "            return page_url_list\n",
    "    except:\n",
    "        print('oops')\n",
    "        \n",
    "    return page_url_list"
   ]
  },
  {
   "cell_type": "code",
   "execution_count": null,
   "metadata": {},
   "outputs": [],
   "source": [
    "def get_movie_url_for_one_genre(page_url_list):\n",
    "    # this is a function to obtain all movies' name and link listed on every page of one genre\n",
    "    movies_name_link = list()\n",
    "    for link in page_url_list:\n",
    "        try:\n",
    "            response = requests.get(link)\n",
    "            if not response.status_code == 200:\n",
    "                return movies_name_link\n",
    "            result_page = BeautifulSoup(response.content,'lxml')\n",
    "            movies = result_page.find_all('div',class_= 'lister-item-content')\n",
    "            try:\n",
    "                for movie in movies:\n",
    "                    movie_name = movie.find('a').get_text()\n",
    "                    movie_link = 'https://www.imdb.com'+movie.find('a').get('href')\n",
    "                    movies_name_link.append((movie_name,movie_link))\n",
    "            except:\n",
    "                movies_name_link.append(())\n",
    "        \n",
    "        except:\n",
    "            return movies_name_link\n",
    "    return movies_name_link"
   ]
  },
  {
   "cell_type": "code",
   "execution_count": null,
   "metadata": {},
   "outputs": [],
   "source": [
    "def get_all_movies_url(movie_list):\n",
    "    feature_movies = movie_list\n",
    "    all_movies_name_link = []\n",
    "    for link in feature_movies:\n",
    "        page_url_list = get_all_url_for_one_genre(link)\n",
    "        movies_name_link = get_movie_url_for_one_genre(page_url_list)\n",
    "        all_movies_name_link.extend(movies_name_link)\n",
    "    all_movies_name_link = set(all_movies_name_link)\n",
    "    return list(all_movies_name_link)"
   ]
  },
  {
   "cell_type": "code",
   "execution_count": null,
   "metadata": {},
   "outputs": [],
   "source": [
    "def obtain_a_csv_file():\n",
    "    # by running this funtion, we can chose a genre devided to obtain all movies' name and link\n",
    "    # and write into a csv file\n",
    "    return_list = get_all_movies_url(genre_devided()) # change which genre devided you want \n",
    "                                                      # by chaning the return value of genre_devided()\n",
    "    df = pd.DataFrame(return_list)\n",
    "    df.to_csv('action') # change the name of csv_file, match it to the return value of genre_devided()"
   ]
  },
  {
   "cell_type": "markdown",
   "metadata": {},
   "source": [
    "### Hint: \n",
    "* The movie obtained by different genres has duplicate values. We wrote some simple code to remove the duplicate values and get the complete movie name and linked csv file\n",
    "* file: movie_unique.csv"
   ]
  }
 ],
 "metadata": {
  "kernelspec": {
   "display_name": "Python 3",
   "language": "python",
   "name": "python3"
  },
  "language_info": {
   "codemirror_mode": {
    "name": "ipython",
    "version": 3
   },
   "file_extension": ".py",
   "mimetype": "text/x-python",
   "name": "python",
   "nbconvert_exporter": "python",
   "pygments_lexer": "ipython3",
   "version": "3.7.3"
  }
 },
 "nbformat": 4,
 "nbformat_minor": 4
}
