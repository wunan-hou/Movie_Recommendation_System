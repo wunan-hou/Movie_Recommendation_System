{
 "cells": [
  {
   "cell_type": "markdown",
   "metadata": {},
   "source": [
    "# Data Cleaning"
   ]
  },
  {
   "cell_type": "code",
   "execution_count": null,
   "metadata": {},
   "outputs": [],
   "source": [
    "import pandas as pd"
   ]
  },
  {
   "cell_type": "code",
   "execution_count": null,
   "metadata": {},
   "outputs": [],
   "source": [
    "a = pd.read_csv('data',index_col = 'Unnamed: 0')\n",
    "a.set_index('index',inplace = True)"
   ]
  },
  {
   "cell_type": "code",
   "execution_count": null,
   "metadata": {},
   "outputs": [],
   "source": [
    "def dataframe_to_dict(df):\n",
    "    # the function is used to transfer columns type read from csv file\n",
    "    # to the proprate type \n",
    "    # thus we can use in later work\n",
    "    dict_ = dict()\n",
    "    for i in df.index:\n",
    "        dict_[i] = dict()\n",
    "        if pd.notnull(df['director'][i]):\n",
    "            dict_[i]['director'] = [i.strip(\"''\") for i in df['director'][i][1:-1].split(', ')]\n",
    "        else:\n",
    "            dict_[i]['director'] = 'NaN'\n",
    "        if pd.notnull(df['genres'][i]):\n",
    "            dict_[i]['genres'] = [i.strip(\"''\") for i in df['genres'][i][1:-1].split(', ')]\n",
    "        else:\n",
    "            dict_[i]['genres'] = 'NaN'\n",
    "        if pd.notnull(df['keywords'][i]):\n",
    "            dict_[i]['keywords'] = [i.strip(\"''\") for i in df['keywords'][i][1:-1].split(', ')]\n",
    "        else:\n",
    "            dict_[i]['keywords'] = 'NaN'\n",
    "        if pd.notnull(df['rating_value'][i]):\n",
    "            dict_[i]['rating_value'] = float(df['rating_value'][i])\n",
    "        else:\n",
    "            dict_[i]['rating_value'] = 0\n",
    "        if pd.notnull(df['release_country'][i]):\n",
    "            dict_[i]['release_country'] = [i.strip(\"''\") for i in df['release_country'][i][1:-1].split(', ')]\n",
    "        else:\n",
    "            dict_[i]['release_country'] = 'NaN'\n",
    "        if pd.notnull(df['release_date'][i]):\n",
    "            dict_[i]['release_date'] = df['release_date'][i]\n",
    "        else:\n",
    "            dict_[i]['release_date'] = 'NaN'\n",
    "        if pd.notnull(df['reviews'][i]) and df['reviews'][i] != []:\n",
    "            dict_[i]['reviews'] = df['reviews'][i].replace('\"',\"\\'\").strip(\"['\").strip(\"]'\").split(\"', '\")\n",
    "            dict_[i]['reviews_number'] = len(dict_[i]['reviews'])\n",
    "        else:\n",
    "            dict_[i]['reviews'] = 'NaN'\n",
    "            dict_[i]['reviews_number'] = 0\n",
    "        if pd.notnull(df['stars'][i]):\n",
    "            dict_[i]['stars'] = [i.strip(\"''\") for i in df['stars'][i][1:-1].split(', ')]\n",
    "        else:\n",
    "            dict_[i]['stars'] = 'NaN'\n",
    "        if pd.notnull(df['storyline'][i]):\n",
    "            dict_[i]['storyline'] = df['storyline'][i]\n",
    "        else:\n",
    "            dict_[i]['storyline'] = 'NaN'\n",
    "        if pd.notnull(df['time'][i]):\n",
    "            dict_[i]['time'] = df['time'][i]\n",
    "        else:\n",
    "            dict_[i]['time'] = 'NaN'\n",
    "        if pd.notnull(df['writers'][i]):\n",
    "            dict_[i]['writers'] = [i.strip(\"''\") for i in df['writers'][i][1:-1].split(', ')]\n",
    "        else:\n",
    "            dict_[i]['writers'] = 'NaN'\n",
    "    return dict_"
   ]
  }
 ],
 "metadata": {
  "kernelspec": {
   "display_name": "Python 3",
   "language": "python",
   "name": "python3"
  },
  "language_info": {
   "codemirror_mode": {
    "name": "ipython",
    "version": 3
   },
   "file_extension": ".py",
   "mimetype": "text/x-python",
   "name": "python",
   "nbconvert_exporter": "python",
   "pygments_lexer": "ipython3",
   "version": "3.7.3"
  }
 },
 "nbformat": 4,
 "nbformat_minor": 4
}
