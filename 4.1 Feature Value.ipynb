{
 "cells": [
  {
   "cell_type": "markdown",
   "metadata": {},
   "source": [
    "# Get value for each feature"
   ]
  },
  {
   "cell_type": "markdown",
   "metadata": {},
   "source": [
    "## Data preparation"
   ]
  },
  {
   "cell_type": "code",
   "execution_count": null,
   "metadata": {},
   "outputs": [],
   "source": [
    "import pandas as pd\n",
    "import numpy as np"
   ]
  },
  {
   "cell_type": "code",
   "execution_count": null,
   "metadata": {},
   "outputs": [],
   "source": [
    "# read data from csv file\n",
    "a = pd.read_csv('data.csv',index_col = 'Unnamed: 0')\n",
    "a.set_index('index',inplace = True)\n",
    "a"
   ]
  },
  {
   "cell_type": "code",
   "execution_count": null,
   "metadata": {},
   "outputs": [],
   "source": [
    "# correct some data format from string to list in dataframe and save it to a dictionary\n",
    "def dataframe_to_dict(df):\n",
    "    dict_ = dict()\n",
    "    for i in df.index:\n",
    "        dict_[i] = dict()\n",
    "        if pd.notnull(df['director'][i]):\n",
    "            dict_[i]['director'] = [i.strip(\"''\") for i in df['director'][i][1:-1].split(', ')]\n",
    "        else:\n",
    "            dict_[i]['director'] = 'NaN'\n",
    "        if pd.notnull(df['genres'][i]):\n",
    "            dict_[i]['genres'] = [i.strip(\"''\") for i in df['genres'][i][1:-1].split(', ')]\n",
    "        else:\n",
    "            dict_[i]['genres'] = 'NaN'\n",
    "        if pd.notnull(df['keywords'][i]):\n",
    "            dict_[i]['keywords'] = [i.strip(\"''\") for i in df['keywords'][i][1:-1].split(', ')]\n",
    "        else:\n",
    "            dict_[i]['keywords'] = 'NaN'\n",
    "        if pd.notnull(df['rating_value'][i]):\n",
    "            dict_[i]['rating_value'] = float(df['rating_value'][i])\n",
    "        else:\n",
    "            dict_[i]['rating_value'] = 0\n",
    "        if pd.notnull(df['release_country'][i]):\n",
    "            dict_[i]['release_country'] = [i.strip(\"''\") for i in df['release_country'][i][1:-1].split(', ')]\n",
    "        else:\n",
    "            dict_[i]['release_country'] = 'NaN'\n",
    "        if pd.notnull(df['release_date'][i]):\n",
    "            dict_[i]['release_date'] = df['release_date'][i]\n",
    "        else:\n",
    "            dict_[i]['release_date'] = 'NaN'\n",
    "        if pd.notnull(df['reviews'][i]) and df['reviews'][i] != []:\n",
    "            dict_[i]['reviews'] = df['reviews'][i].replace('\"',\"\\'\").strip(\"['\").strip(\"]'\").split(\"', '\")\n",
    "            dict_[i]['reviews_number'] = len(dict_[i]['reviews'])\n",
    "        else:\n",
    "            dict_[i]['reviews'] = 'NaN'\n",
    "            dict_[i]['reviews_number'] = 0\n",
    "        if pd.notnull(df['stars'][i]):\n",
    "            dict_[i]['stars'] = [i.strip(\"''\") for i in df['stars'][i][1:-1].split(', ')]\n",
    "        else:\n",
    "            dict_[i]['stars'] = 'NaN'\n",
    "        if pd.notnull(df['storyline'][i]):\n",
    "            dict_[i]['storyline'] = df['storyline'][i]\n",
    "        else:\n",
    "            dict_[i]['storyline'] = 'NaN'\n",
    "        if pd.notnull(df['time'][i]):\n",
    "            dict_[i]['time'] = df['time'][i]\n",
    "        else:\n",
    "            dict_[i]['time'] = 'NaN'\n",
    "        if pd.notnull(df['writers'][i]):\n",
    "            dict_[i]['writers'] = [i.strip(\"''\") for i in df['writers'][i][1:-1].split(', ')]\n",
    "        else:\n",
    "            dict_[i]['writers'] = 'NaN'\n",
    "    return dict_\n",
    "new_dict = dataframe_to_dict(a) "
   ]
  },
  {
   "cell_type": "markdown",
   "metadata": {},
   "source": [
    "## Get feature value"
   ]
  },
  {
   "cell_type": "code",
   "execution_count": null,
   "metadata": {},
   "outputs": [],
   "source": [
    "# get the rating for each feature x\n",
    "def rating(dict_,x):\n",
    "    rating = {}\n",
    "    for key in new_dict.keys():\n",
    "        if (dict_[key][x] != 'NaN') and (dict_[key]['rating_value']):\n",
    "            for i in dict_[key][x]:\n",
    "                try:\n",
    "                    rating[i].append(dict_[key]['rating_value'])\n",
    "                except:\n",
    "                    rating[i] = [dict_[key]['rating_value']]\n",
    "    for key in rating.keys():\n",
    "        sum_ = np.array(rating[key])\n",
    "        rating[key] = np.mean(sum_) \n",
    "    return rating"
   ]
  },
  {
   "cell_type": "code",
   "execution_count": null,
   "metadata": {},
   "outputs": [],
   "source": [
    "# get the rating for each director\n",
    "director = rating(new_dict,'director')\n",
    "director"
   ]
  },
  {
   "cell_type": "code",
   "execution_count": null,
   "metadata": {},
   "outputs": [],
   "source": [
    "# get the rating for each genre\n",
    "genres = rating(new_dict,'genres')\n",
    "genres"
   ]
  },
  {
   "cell_type": "code",
   "execution_count": null,
   "metadata": {},
   "outputs": [],
   "source": [
    "# get the rating for each release_country \n",
    "release_country = rating(new_dict,'release_country')\n",
    "release_country"
   ]
  },
  {
   "cell_type": "code",
   "execution_count": null,
   "metadata": {},
   "outputs": [],
   "source": [
    "# get the rating for each star\n",
    "stars = rating(new_dict,'stars')\n",
    "stars"
   ]
  },
  {
   "cell_type": "code",
   "execution_count": null,
   "metadata": {},
   "outputs": [],
   "source": [
    "# get the rating for each writer\n",
    "writers = rating(new_dict,'writers')\n",
    "writers"
   ]
  },
  {
   "cell_type": "code",
   "execution_count": null,
   "metadata": {},
   "outputs": [],
   "source": [
    "# get the value for each feature in a movie\n",
    "dict_ = {}\n",
    "for key in new_dict.keys():\n",
    "    dict_[key] = {}\n",
    "    try:\n",
    "        x = 0\n",
    "        for i in new_dict[key]['director']:\n",
    "            x += director[i]\n",
    "            dict_[key]['director'] = x/len(new_dict[key]['director'])\n",
    "    except:\n",
    "        dict_[key]['director'] = 0\n",
    "    try:\n",
    "        x = 0\n",
    "        for i in new_dict[key]['genres']:\n",
    "            x += genres[i]\n",
    "            dict_[key]['genres'] = x/len(new_dict[key]['genres'])\n",
    "    except:\n",
    "        dict_[key]['genres'] = 0\n",
    "    try:\n",
    "        x = 0\n",
    "        for i in new_dict[key]['release_country']:\n",
    "                x += release_country[i]\n",
    "                dict_[key]['release_country'] = x/len(new_dict[key]['release_country'])\n",
    "    except:\n",
    "        dict_[key]['release_country'] = 0\n",
    "    try:\n",
    "        x = 0\n",
    "        for i in new_dict[key]['stars']:\n",
    "                x += stars[i]\n",
    "                dict_[key]['stars'] = x/len(new_dict[key]['stars'])\n",
    "    except:\n",
    "        dict_[key]['stars'] = 0\n",
    "    try:\n",
    "        x = 0\n",
    "        for i in new_dict[key]['writers']:\n",
    "                x += writers[i]\n",
    "                dict_[key]['writers'] = x/len(new_dict[key]['writers'])\n",
    "    except:\n",
    "        dict_[key]['writers'] = 0\n",
    "dict_"
   ]
  },
  {
   "cell_type": "markdown",
   "metadata": {},
   "source": [
    "## Save the result in to csv file"
   ]
  },
  {
   "cell_type": "code",
   "execution_count": null,
   "metadata": {
    "scrolled": true
   },
   "outputs": [],
   "source": [
    "grade = pd.DataFrame(dict_).T\n",
    "grade"
   ]
  },
  {
   "cell_type": "code",
   "execution_count": null,
   "metadata": {},
   "outputs": [],
   "source": [
    "grade.to_csv('grade')"
   ]
  },
  {
   "cell_type": "code",
   "execution_count": null,
   "metadata": {},
   "outputs": [],
   "source": []
  }
 ],
 "metadata": {
  "kernelspec": {
   "display_name": "Python 3",
   "language": "python",
   "name": "python3"
  },
  "language_info": {
   "codemirror_mode": {
    "name": "ipython",
    "version": 3
   },
   "file_extension": ".py",
   "mimetype": "text/x-python",
   "name": "python",
   "nbconvert_exporter": "python",
   "pygments_lexer": "ipython3",
   "version": "3.7.3"
  }
 },
 "nbformat": 4,
 "nbformat_minor": 2
}
